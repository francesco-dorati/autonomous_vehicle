{
 "cells": [
  {
   "cell_type": "code",
   "execution_count": null,
   "metadata": {},
   "outputs": [],
   "source": []
  },
  {
   "cell_type": "code",
   "execution_count": 1,
   "metadata": {},
   "outputs": [
    {
     "ename": "ModuleNotFoundError",
     "evalue": "No module named 'rplidar'",
     "output_type": "error",
     "traceback": [
      "\u001b[0;31m---------------------------------------------------------------------------\u001b[0m",
      "\u001b[0;31mModuleNotFoundError\u001b[0m                       Traceback (most recent call last)",
      "Cell \u001b[0;32mIn[1], line 1\u001b[0m\n\u001b[0;32m----> 1\u001b[0m \u001b[38;5;28;01mfrom\u001b[39;00m \u001b[38;5;21;01mrplidar\u001b[39;00m \u001b[38;5;28;01mimport\u001b[39;00m RPLidar\n\u001b[1;32m      3\u001b[0m \u001b[38;5;66;03m# Change to the correct port, e.g., /dev/ttyUSB0\u001b[39;00m\n\u001b[1;32m      4\u001b[0m lidar \u001b[38;5;241m=\u001b[39m RPLidar(\u001b[38;5;124m'\u001b[39m\u001b[38;5;124m/dev/ttyUSB0\u001b[39m\u001b[38;5;124m'\u001b[39m)\n",
      "\u001b[0;31mModuleNotFoundError\u001b[0m: No module named 'rplidar'"
     ]
    }
   ],
   "source": [
    "from rplidar import RPLidar\n",
    "\n",
    "# Change to the correct port, e.g., /dev/ttyUSB0\n",
    "lidar = RPLidar('/dev/ttyUSB0')\n",
    "\n",
    "# Start scanning\n",
    "for i, scan in enumerate(lidar.iter_scans()):\n",
    "    print(f'Scan {i}: {scan}')\n",
    "    if i > 10:\n",
    "        break\n",
    "\n",
    "# Stop and disconnect\n",
    "lidar.stop()\n",
    "lidar.disconnect()"
   ]
  }
 ],
 "metadata": {
  "kernelspec": {
   "display_name": "base",
   "language": "python",
   "name": "python3"
  },
  "language_info": {
   "codemirror_mode": {
    "name": "ipython",
    "version": 3
   },
   "file_extension": ".py",
   "mimetype": "text/x-python",
   "name": "python",
   "nbconvert_exporter": "python",
   "pygments_lexer": "ipython3",
   "version": "3.12.2"
  }
 },
 "nbformat": 4,
 "nbformat_minor": 2
}
