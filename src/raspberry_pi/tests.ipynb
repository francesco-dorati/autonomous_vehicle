{
 "cells": [
  {
   "cell_type": "markdown",
   "metadata": {},
   "source": [
    "Test Motor Controller"
   ]
  },
  {
   "cell_type": "code",
   "execution_count": 6,
   "metadata": {},
   "outputs": [],
   "source": [
    "# TEST NANO\n",
    "import time\n",
    "from nano import NANO\n",
    "nano = NANO()\n",
    "\n",
    "\n",
    "# TEST SPEEDS\n",
    "nano.send_power(100, 100)\n",
    "time.sleep(10)\n",
    "nano.send_power(0, 0)\n",
    "\n",
    "# # RECEIVE DATA\n",
    "# while nano.ser.in_waiting > 0:\n",
    "#     try:\n",
    "#         byte = nano.ser.read()\n",
    "#         if byte:\n",
    "#             line = byte.decode(errors='ignore').strip()  # Ignore decoding errors\n",
    "#             if line:  # Only print if the line is not empty\n",
    "#                 print(line, end=\"\")\n",
    "#     except UnicodeDecodeError as e:\n",
    "#         print(f\"Decode error: {e}\")\n",
    "\n",
    "# DETERMINE MIN POW, MAX POW, FAST SLOW MEDIUM POWER"
   ]
  },
  {
   "cell_type": "code",
   "execution_count": 3,
   "metadata": {},
   "outputs": [],
   "source": [
    "# STOP NANO\n",
    "from nano import NANO\n",
    "nano = NANO()\n",
    "nano.send_power(0, 0)"
   ]
  },
  {
   "cell_type": "code",
   "execution_count": null,
   "metadata": {},
   "outputs": [],
   "source": [
    "# TEST TURNING RADIUS"
   ]
  },
  {
   "cell_type": "code",
   "execution_count": null,
   "metadata": {},
   "outputs": [],
   "source": [
    "# SETUP RP2040\n",
    "from rp2040 import RP2040\n",
    "rp2040 = RP2040()\n",
    "\n",
    "# TEST BATTERY\n",
    "rp2040.set_battery(True)\n",
    "rp2040.request_data()\n",
    "print(\"Battery voltage: \", rp2040.battery_voltage_v)\n",
    "rp2040.set_battery(False)"
   ]
  },
  {
   "cell_type": "code",
   "execution_count": null,
   "metadata": {},
   "outputs": [],
   "source": [
    "# SETUP RP2040\n",
    "from rp2040 import RP2040\n",
    "rp2040 = RP2040()\n",
    "\n",
    "# TEST DISTANCE\n",
    "rp2040.set_distance(True)\n",
    "try:\n",
    "    while True:\n",
    "        rp2040.request_data()\n",
    "        print(f\"\\nDISTANCE\\n FL {rp2040.obstacle_disance_cm['FL']} FR {rp2040.obstacle_disance_cm['FR']} RL {rp2040.obstacle_disance_cm['RL']} RR {rp2040.obstacle_disance_cm['RR']}\")\n",
    "        time.sleep(0.5)\n",
    "except KeyboardInterrupt:\n",
    "    rp2040.set_distance(False)"
   ]
  },
  {
   "cell_type": "code",
   "execution_count": null,
   "metadata": {},
   "outputs": [],
   "source": [
    "# TEST ENCODERS"
   ]
  },
  {
   "cell_type": "code",
   "execution_count": null,
   "metadata": {},
   "outputs": [],
   "source": [
    "# TEST DIST STOP"
   ]
  },
  {
   "cell_type": "code",
   "execution_count": null,
   "metadata": {},
   "outputs": [],
   "source": [
    "# TEST ENCODER READINGS"
   ]
  },
  {
   "cell_type": "code",
   "execution_count": null,
   "metadata": {},
   "outputs": [],
   "source": []
  }
 ],
 "metadata": {
  "kernelspec": {
   "display_name": "Python 3",
   "language": "python",
   "name": "python3"
  },
  "language_info": {
   "codemirror_mode": {
    "name": "ipython",
    "version": 3
   },
   "file_extension": ".py",
   "mimetype": "text/x-python",
   "name": "python",
   "nbconvert_exporter": "python",
   "pygments_lexer": "ipython3",
   "version": "3.10.12"
  }
 },
 "nbformat": 4,
 "nbformat_minor": 2
}
