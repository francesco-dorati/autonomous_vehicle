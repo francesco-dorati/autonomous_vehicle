{
 "cells": [
  {
   "cell_type": "markdown",
   "metadata": {},
   "source": [
    "Test Motor Controller"
   ]
  },
  {
   "cell_type": "code",
   "execution_count": null,
   "metadata": {},
   "outputs": [],
   "source": [
    "# TEST NANO\n",
    "import time\n",
    "from nano import NANO\n",
    "nano = NANO()\n",
    "\n",
    "\n",
    "# TEST SPEEDS\n",
    "nano.send_power(50, 50)\n",
    "time.sleep(2)\n",
    "nano.send_power(0, 0)\n",
    "\n",
    "# RECEIVE DATA\n",
    "while nano.ser.in_waiting > 0:\n",
    "    line = nano.ser.readline().decode().strip()\n",
    "    print(f\"Received: {line}\")\n",
    "\n",
    "# DETERMINE MIN POW, MAX POW, FAST SLOW MEDIUM POWER"
   ]
  },
  {
   "cell_type": "code",
   "execution_count": null,
   "metadata": {},
   "outputs": [],
   "source": [
    "# TEST TURNING RADIUS"
   ]
  },
  {
   "cell_type": "code",
   "execution_count": null,
   "metadata": {},
   "outputs": [],
   "source": [
    "# SETUP RP2040\n",
    "from rp2040 import RP2040\n",
    "rp2040 = RP2040()"
   ]
  },
  {
   "cell_type": "code",
   "execution_count": null,
   "metadata": {},
   "outputs": [],
   "source": [
    "# TEST BATTERY\n",
    "rp2040.set_battery(True)\n",
    "battery_v, _, _ = rp2040.request_data()\n",
    "print(\"Battery voltage: \", battery_v)\n",
    "rp2040.set_battery(False)"
   ]
  },
  {
   "cell_type": "code",
   "execution_count": null,
   "metadata": {},
   "outputs": [],
   "source": [
    "# TEST DISTANCE\n",
    "rp2040.set_distance(True)\n",
    "try:\n",
    "    while True:\n",
    "        _, _, distance = rp2040.request_data()\n",
    "        print(f\"DISTANCE\\n FL {distance[0]}\\n FR {distance[1]}\\n BL {distance[2]}\\n BR {distance[3]}\")\n",
    "        time.sleep(0.5)\n",
    "except KeyboardInterrupt:\n",
    "    rp2040.set_distance(False)"
   ]
  },
  {
   "cell_type": "code",
   "execution_count": null,
   "metadata": {},
   "outputs": [],
   "source": [
    "# TEST DIST STOP"
   ]
  },
  {
   "cell_type": "code",
   "execution_count": null,
   "metadata": {},
   "outputs": [],
   "source": [
    "# TEST ENCODER READINGS"
   ]
  },
  {
   "cell_type": "code",
   "execution_count": null,
   "metadata": {},
   "outputs": [],
   "source": []
  }
 ],
 "metadata": {
  "language_info": {
   "name": "python"
  }
 },
 "nbformat": 4,
 "nbformat_minor": 2
}
